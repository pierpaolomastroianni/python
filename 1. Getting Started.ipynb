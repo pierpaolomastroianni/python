{
 "cells": [
  {
   "cell_type": "code",
   "execution_count": 1,
   "metadata": {},
   "outputs": [
    {
     "name": "stdout",
     "output_type": "stream",
     "text": [
      "Enter a temperature in Celsius: 10\n",
      "In Fahrenheit, that is 50.0\n"
     ]
    }
   ],
   "source": [
    "#Input da tastiera\n",
    "#L'eval è necessario per convertire il testo inserito in numero\n",
    "temp = eval(input('Enter a temperature in Celsius: '))\n",
    "print('In Fahrenheit, that is', 9/5*temp+32)"
   ]
  },
  {
   "cell_type": "code",
   "execution_count": 5,
   "metadata": {},
   "outputs": [
    {
     "name": "stdout",
     "output_type": "stream",
     "text": [
      "Ciao\n"
     ]
    }
   ],
   "source": [
    "#print\n",
    "print('Ciao')"
   ]
  },
  {
   "cell_type": "code",
   "execution_count": 6,
   "metadata": {},
   "outputs": [
    {
     "name": "stdout",
     "output_type": "stream",
     "text": [
      "La somma di 3+4 è: 7\n"
     ]
    }
   ],
   "source": [
    "#nel print si possono fare anche le operazioni\n",
    "print('La somma di 3+4 è:', 3+4)"
   ]
  },
  {
   "cell_type": "code",
   "execution_count": 14,
   "metadata": {},
   "outputs": [
    {
     "name": "stdout",
     "output_type": "stream",
     "text": [
      "La somma di 3+4 è:7."
     ]
    }
   ],
   "source": [
    "#sep inserisce il carattere specificato fra ogni componente \n",
    "#del print.\n",
    "# end è il carattere finale.\n",
    "print('La somma di 3+4 è', 3+4, end='.', sep=': ')"
   ]
  },
  {
   "cell_type": "code",
   "execution_count": 19,
   "metadata": {},
   "outputs": [
    {
     "name": "stdout",
     "output_type": "stream",
     "text": [
      "x = 4 ;\n",
      "y = 5 ;\n",
      "z = 8."
     ]
    }
   ],
   "source": [
    "#VARIABILI\n",
    "x=3\n",
    "y=4\n",
    "z=x+y\n",
    "z=z+1\n",
    "x=y\n",
    "y=5\n",
    "print('x =',x,';\\ny =',y,';\\nz =',z, end='.')"
   ]
  },
  {
   "cell_type": "code",
   "execution_count": 30,
   "metadata": {},
   "outputs": [
    {
     "name": "stdout",
     "output_type": "stream",
     "text": [
      "##########\n",
      "##########\n",
      "##########\n",
      "##########\n"
     ]
    }
   ],
   "source": [
    "#ESERCIZI\n",
    "\n",
    "a='#'\n",
    "for i in range(1,10):\n",
    "    a+='#'\n",
    "for j in range(0,4):\n",
    "    print(a)"
   ]
  },
  {
   "cell_type": "code",
   "execution_count": 31,
   "metadata": {},
   "outputs": [
    {
     "name": "stdout",
     "output_type": "stream",
     "text": [
      "0.1017249004865104\n"
     ]
    }
   ],
   "source": [
    "print((512 - 282)/(47*48 + 5))"
   ]
  },
  {
   "cell_type": "code",
   "execution_count": 34,
   "metadata": {},
   "outputs": [
    {
     "name": "stdout",
     "output_type": "stream",
     "text": [
      "Inserisci un numero: 3\n",
      "Il quadrato di 3 è 9\n"
     ]
    }
   ],
   "source": [
    "var = eval(input(\"Inserisci un numero: \"))\n",
    "print(\"Il quadrato di\",var,\"è\", var**2)"
   ]
  },
  {
   "cell_type": "code",
   "execution_count": 37,
   "metadata": {},
   "outputs": [
    {
     "name": "stdout",
     "output_type": "stream",
     "text": [
      "Inserisci un numero: 4\n",
      "4--->8--->12--->16--->20\n"
     ]
    }
   ],
   "source": [
    "var = eval(input(\"Inserisci un numero: \"))\n",
    "print(var,2*var,3*var,4*var,5*var,sep='--->')"
   ]
  },
  {
   "cell_type": "code",
   "execution_count": 38,
   "metadata": {},
   "outputs": [
    {
     "name": "stdout",
     "output_type": "stream",
     "text": [
      "Inserisci il primo numero: 2\n",
      "Inserisci il secondo numero: 4\n",
      "Inserisci il terzo numero: 6\n",
      "Totale =  12\n",
      "Media =  4.0\n"
     ]
    }
   ],
   "source": [
    "#somma\n",
    "var1 = eval(input(\"Inserisci il primo numero: \"))\n",
    "var2 = eval(input(\"Inserisci il secondo numero: \"))\n",
    "var3 = eval(input(\"Inserisci il terzo numero: \"))\n",
    "somma = var1+var2+var3\n",
    "print(\"Totale = \", somma)\n",
    "print(\"Media = \", somma/3)"
   ]
  },
  {
   "cell_type": "code",
   "execution_count": 39,
   "metadata": {},
   "outputs": [
    {
     "name": "stdout",
     "output_type": "stream",
     "text": [
      "Quanto pagi?32\n",
      "Percentuale di mancia?.1\n",
      "La mancia sarà: 3.2 €\n",
      "Il conto totalesarà: 35.2 €\n"
     ]
    }
   ],
   "source": [
    "conto = eval(input(\"Quanto paghi?\"))\n",
    "perc = eval(input(\"Percentuale di mancia?\"))\n",
    "print(\"La mancia sarà:\",conto*perc,\"€\")\n",
    "print(\"Il conto totalesarà:\", conto+conto*perc,\"€\")"
   ]
  },
  {
   "cell_type": "code",
   "execution_count": null,
   "metadata": {},
   "outputs": [],
   "source": []
  }
 ],
 "metadata": {
  "kernelspec": {
   "display_name": "Python 3",
   "language": "python",
   "name": "python3"
  },
  "language_info": {
   "codemirror_mode": {
    "name": "ipython",
    "version": 3
   },
   "file_extension": ".py",
   "mimetype": "text/x-python",
   "name": "python",
   "nbconvert_exporter": "python",
   "pygments_lexer": "ipython3",
   "version": "3.7.3"
  }
 },
 "nbformat": 4,
 "nbformat_minor": 2
}
