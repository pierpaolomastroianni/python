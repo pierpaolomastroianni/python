{
 "cells": [
  {
   "cell_type": "code",
   "execution_count": 1,
   "metadata": {},
   "outputs": [
    {
     "name": "stdout",
     "output_type": "stream",
     "text": [
      "Ehi mamma!\n"
     ]
    }
   ],
   "source": [
    "print(\"Ehi mamma!\")"
   ]
  },
  {
   "cell_type": "code",
   "execution_count": 6,
   "metadata": {},
   "outputs": [
    {
     "name": "stdout",
     "output_type": "stream",
     "text": [
      "Numero random da 1 a 10: 2\n"
     ]
    }
   ],
   "source": [
    "from random import randint\n",
    "x = randint(1,10)\n",
    "print(\"Numero random da 1 a 10:\",x)"
   ]
  },
  {
   "cell_type": "code",
   "execution_count": 7,
   "metadata": {},
   "outputs": [
    {
     "name": "stdout",
     "output_type": "stream",
     "text": [
      "Pi greco: 3.141592653589793\n",
      "Sin(0)= 0.0\n"
     ]
    }
   ],
   "source": [
    "from math import *\n",
    "print(\"Pi greco:\",pi)\n",
    "print(\"Sin(0)=\",sin(0))"
   ]
  },
  {
   "cell_type": "code",
   "execution_count": 9,
   "metadata": {},
   "outputs": [
    {
     "data": {
      "text/plain": [
       "['__doc__',\n",
       " '__loader__',\n",
       " '__name__',\n",
       " '__package__',\n",
       " '__spec__',\n",
       " 'acos',\n",
       " 'acosh',\n",
       " 'asin',\n",
       " 'asinh',\n",
       " 'atan',\n",
       " 'atan2',\n",
       " 'atanh',\n",
       " 'ceil',\n",
       " 'copysign',\n",
       " 'cos',\n",
       " 'cosh',\n",
       " 'degrees',\n",
       " 'e',\n",
       " 'erf',\n",
       " 'erfc',\n",
       " 'exp',\n",
       " 'expm1',\n",
       " 'fabs',\n",
       " 'factorial',\n",
       " 'floor',\n",
       " 'fmod',\n",
       " 'frexp',\n",
       " 'fsum',\n",
       " 'gamma',\n",
       " 'gcd',\n",
       " 'hypot',\n",
       " 'inf',\n",
       " 'isclose',\n",
       " 'isfinite',\n",
       " 'isinf',\n",
       " 'isnan',\n",
       " 'ldexp',\n",
       " 'lgamma',\n",
       " 'log',\n",
       " 'log10',\n",
       " 'log1p',\n",
       " 'log2',\n",
       " 'modf',\n",
       " 'nan',\n",
       " 'pi',\n",
       " 'pow',\n",
       " 'radians',\n",
       " 'remainder',\n",
       " 'sin',\n",
       " 'sinh',\n",
       " 'sqrt',\n",
       " 'tan',\n",
       " 'tanh',\n",
       " 'tau',\n",
       " 'trunc']"
      ]
     },
     "execution_count": 9,
     "metadata": {},
     "output_type": "execute_result"
    }
   ],
   "source": [
    "#Dà una lista di tutti gli elementi della libreria\n",
    "import math\n",
    "dir(math)"
   ]
  },
  {
   "cell_type": "code",
   "execution_count": 10,
   "metadata": {},
   "outputs": [
    {
     "name": "stdout",
     "output_type": "stream",
     "text": [
      "Help on built-in function floor in module math:\n",
      "\n",
      "floor(x, /)\n",
      "    Return the floor of x as an Integral.\n",
      "    \n",
      "    This is the largest integer <= x.\n",
      "\n"
     ]
    }
   ],
   "source": [
    "#Fornisce una descrizione di una specifica funzione\n",
    "help(math.floor)"
   ]
  },
  {
   "cell_type": "code",
   "execution_count": null,
   "metadata": {},
   "outputs": [],
   "source": [
    "#Esercizio: genera 50 numeri random fra 3 e 6\n",
    "from random import randint\n",
    "for i in range(50):\n",
    "    print(randint(3,6), end='; ')\n"
   ]
  },
  {
   "cell_type": "code",
   "execution_count": null,
   "metadata": {},
   "outputs": [],
   "source": [
    "#Esercizio: genera 50 numeri random fra 3 e 6\n",
    "from random import randint\n",
    "for i in range(50):\n",
    "    x = randint(1,50)\n",
    "    y = randint(2,5)\n",
    "    print(x**y, end = \"; \")"
   ]
  },
  {
   "cell_type": "code",
   "execution_count": 3,
   "metadata": {},
   "outputs": [
    {
     "name": "stdout",
     "output_type": "stream",
     "text": [
      "Maurizio ruffiano\n",
      "Maurizio ruffiano\n",
      "Maurizio ruffiano\n",
      "Maurizio ruffiano\n",
      "Maurizio ruffiano\n"
     ]
    }
   ],
   "source": [
    "from random import randint\n",
    "n = randint(1,10)\n",
    "for i in range(n):\n",
    "    print(\"Maurizio ruffiano\")"
   ]
  },
  {
   "cell_type": "code",
   "execution_count": 5,
   "metadata": {},
   "outputs": [
    {
     "name": "stdout",
     "output_type": "stream",
     "text": [
      "0.02\n"
     ]
    }
   ],
   "source": [
    "from random import randint\n",
    "print(randint(1,10)/100))"
   ]
  },
  {
   "cell_type": "code",
   "execution_count": 18,
   "metadata": {},
   "outputs": [
    {
     "data": {
      "text/plain": [
       "2.52"
      ]
     },
     "execution_count": 18,
     "metadata": {},
     "output_type": "execute_result"
    }
   ],
   "source": [
    "randint(100,1000)/100"
   ]
  },
  {
   "cell_type": "code",
   "execution_count": 30,
   "metadata": {},
   "outputs": [
    {
     "name": "stdout",
     "output_type": "stream",
     "text": [
      "Random: 1 - 2 -> 1;\n",
      "Random: 1 - 3 -> 1;\n",
      "Random: 1 - 4 -> 4;\n",
      "Random: 1 - 5 -> 5;\n",
      "Random: 1 - 6 -> 5;\n",
      "Random: 1 - 7 -> 2;\n",
      "Random: 1 - 8 -> 5;\n",
      "Random: 1 - 9 -> 6;\n",
      "Random: 1 - 10 -> 5;\n",
      "Random: 1 - 11 -> 9;\n",
      "Random: 1 - 12 -> 8;\n",
      "Random: 1 - 13 -> 4;\n",
      "Random: 1 - 14 -> 4;\n",
      "Random: 1 - 15 -> 12;\n",
      "Random: 1 - 16 -> 8;\n",
      "Random: 1 - 17 -> 7;\n",
      "Random: 1 - 18 -> 10;\n",
      "Random: 1 - 19 -> 16;\n",
      "Random: 1 - 20 -> 10;\n",
      "Random: 1 - 21 -> 17;\n",
      "Random: 1 - 22 -> 6;\n",
      "Random: 1 - 23 -> 15;\n",
      "Random: 1 - 24 -> 15;\n",
      "Random: 1 - 25 -> 1;\n",
      "Random: 1 - 26 -> 7;\n",
      "Random: 1 - 27 -> 26;\n",
      "Random: 1 - 28 -> 6;\n",
      "Random: 1 - 29 -> 12;\n",
      "Random: 1 - 30 -> 14;\n",
      "Random: 1 - 31 -> 28;\n",
      "Random: 1 - 32 -> 4;\n",
      "Random: 1 - 33 -> 1;\n",
      "Random: 1 - 34 -> 6;\n",
      "Random: 1 - 35 -> 2;\n",
      "Random: 1 - 36 -> 33;\n",
      "Random: 1 - 37 -> 20;\n",
      "Random: 1 - 38 -> 17;\n",
      "Random: 1 - 39 -> 36;\n",
      "Random: 1 - 40 -> 20;\n",
      "Random: 1 - 41 -> 18;\n",
      "Random: 1 - 42 -> 37;\n",
      "Random: 1 - 43 -> 26;\n",
      "Random: 1 - 44 -> 3;\n",
      "Random: 1 - 45 -> 35;\n",
      "Random: 1 - 46 -> 3;\n",
      "Random: 1 - 47 -> 19;\n",
      "Random: 1 - 48 -> 37;\n",
      "Random: 1 - 49 -> 39;\n",
      "Random: 1 - 50 -> 39;\n",
      "Random: 1 - 51 -> 26;\n"
     ]
    }
   ],
   "source": [
    "for i in range(1,51):\n",
    "    x=randint(1,i+1)\n",
    "    print(\"Random:\",1,\"-\",(i+1),\"->\",x,end=\";\\n\")"
   ]
  },
  {
   "cell_type": "code",
   "execution_count": 31,
   "metadata": {},
   "outputs": [
    {
     "name": "stdout",
     "output_type": "stream",
     "text": [
      "Inserisci x: 5\n",
      "Inserisci y: 10\n",
      "|x-y|/(x+y)= 0.3333333333333333\n"
     ]
    }
   ],
   "source": [
    "x = eval(input(\"Inserisci x: \"))\n",
    "y = eval(input(\"Inserisci y: \"))\n",
    "print(\"|x-y|/(x+y)=\", abs(x-y)/(x+y))"
   ]
  },
  {
   "cell_type": "code",
   "execution_count": 51,
   "metadata": {},
   "outputs": [
    {
     "name": "stdout",
     "output_type": "stream",
     "text": [
      "Inserisci un angolo compreso tra -180 e 180: -90\n",
      "L'angolo  -90  è pari a  270\n"
     ]
    }
   ],
   "source": [
    "ang_1 = 200\n",
    "\n",
    "while abs(ang_1) > 180:\n",
    "    ang_1 = eval(input(\"Inserisci un angolo compreso tra -180 e 180: \"))\n",
    "    if abs(ang_1) > 180:\n",
    "        print(\"Angolo fuori dal range. Ritenta.\")\n",
    "\n",
    "print(\"L'angolo \", ang_1,\" è pari a \", ang_1%360)"
   ]
  }
 ],
 "metadata": {
  "kernelspec": {
   "display_name": "Python 3",
   "language": "python",
   "name": "python3"
  },
  "language_info": {
   "codemirror_mode": {
    "name": "ipython",
    "version": 3
   },
   "file_extension": ".py",
   "mimetype": "text/x-python",
   "name": "python",
   "nbconvert_exporter": "python",
   "pygments_lexer": "ipython3",
   "version": "3.7.3"
  }
 },
 "nbformat": 4,
 "nbformat_minor": 2
}
