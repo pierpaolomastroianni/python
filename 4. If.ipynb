{
 "cells": [
  {
   "cell_type": "code",
   "execution_count": null,
   "metadata": {},
   "outputs": [],
   "source": [
    "grade = eval(input('Enter your score: '))\n",
    "#Operatore else-if\n",
    "if grade>=90:\n",
    "    print('A')\n",
    "elif grade>=80:\n",
    "    print('B')\n",
    "elif grade>=70:\n",
    "    print('C')\n",
    "elif grade>=60:\n",
    "    print('D')\n",
    "else:\n",
    "    print('F')"
   ]
  },
  {
   "cell_type": "code",
   "execution_count": null,
   "metadata": {},
   "outputs": [],
   "source": [
    "\"\"\"Write a program that asks the user to enter a length in centimeters. If the user enters a negative\n",
    "#length, the program should tell the user that the entry is invalid. Otherwise, the program\n",
    "#should convert the length to inches and print out the result. There are 2.54 centimeters in an\n",
    "#inch.\"\"\"\n",
    "lun = eval(input(\"Inserisci la lunghezza: \"))\n",
    "if lun < 0:\n",
    "    print(\"La lunghezza non è valida.\")\n",
    "else:\n",
    "    print(lun, \"cm = \",lun/2.54, \" inches \")"
   ]
  },
  {
   "cell_type": "code",
   "execution_count": null,
   "metadata": {},
   "outputs": [],
   "source": [
    "\"\"\"Ask the user for a temperature. Then ask them what units, Celsius or Fahrenheit, the temperature\n",
    "is in. Your program should convert the temperature to the other unit. The conversions\n",
    "are F = 9/5C + 32 and C = 5/9(F - 32).\"\"\"\n",
    "temp = eval(input(\"Inserisci la temperatura: \"))\n",
    "mis = 2\n",
    "while mis > 1:  \n",
    "    mis = eval(input(\"In quale unità di misura? (1: Celsius, 0: Fahrenheit)\"))\n",
    "    if mis == 1:\n",
    "        print(temp,\"° Celsius equivalgono a \", 9/5*temp+32,\"° Fahrenheit\")\n",
    "    elif mis == 0:\n",
    "        print(temp,\"° Fahrenheit equivalgono a \", 5/9*(temp-32),\"° Celsius\")\n",
    "    else:\n",
    "        print(\"Inserisci 1 per Celsius, 0 per Fahrenheit\")"
   ]
  },
  {
   "cell_type": "code",
   "execution_count": null,
   "metadata": {},
   "outputs": [],
   "source": [
    "\"\"\"Write a program that asks the user for an hour between 1 and 12, asks them to enter am or pm,\n",
    "and asks them how many hours into the future they want to go. Print out what the hour will\n",
    "be that many hours into the future, printing am or pm as appropriate. An example is shown\n",
    "below.\"\"\"\n",
    "ora = eval(input(\"Inserisci un ora tra 1 e 12:\"))\n",
    "am_pm =  eval(input(\"AM (1) o PM (2)?\"))\n",
    "ore_avanti = eval(input(\"Quante ore vuoi andare avanti?\"))\n",
    "ore_nuove = (ora+ore_avanti)%12\n",
    "stampa = \"Fra \"+str(ore_avanti)+\" saranno le ore \"+ str(ore_nuove)\n",
    "if am_pm == 1:\n",
    "    if ore_nuove > 12:\n",
    "        stampa += \" PM\"\n",
    "    else:\n",
    "        stampa += \" AM\"\n",
    "elif am_pm == 2:\n",
    "    if ora+ore_avanti > 12:\n",
    "        stampa += \" AM\"\n",
    "    else:\n",
    "        stampa += \" PM\"\n",
    "print(stampa)"
   ]
  },
  {
   "cell_type": "code",
   "execution_count": 2,
   "metadata": {},
   "outputs": [
    {
     "name": "stdout",
     "output_type": "stream",
     "text": [
      "Round 0 ...Gioca! \n",
      "\n",
      "Carta (1), Forbice (2) o Sasso (3)?2\n",
      "Il pc ha giocato....SASSO!\n",
      "Hai perso il round  0 ....\n",
      "\n",
      "Siete  0  a  1 \n",
      "\n",
      "Round 1 ...Gioca! \n",
      "\n",
      "Carta (1), Forbice (2) o Sasso (3)?2\n",
      "Il pc ha giocato....SASSO!\n",
      "Hai perso il round  1 ....\n",
      "\n",
      "Siete  0  a  2 \n",
      "\n",
      "Round 2 ...Gioca! \n",
      "\n",
      "Carta (1), Forbice (2) o Sasso (3)?2\n",
      "Il pc ha giocato....SASSO!\n",
      "Hai perso il round  2 ....\n",
      "\n",
      "Siete  0  a  3 \n",
      "\n",
      "Round 3 ...Gioca! \n",
      "\n",
      "Carta (1), Forbice (2) o Sasso (3)?2\n",
      "Il pc ha giocato....CARTA!\n",
      "Hai vinto il round  3 !\n",
      "\n",
      "Siete  1  a  3 \n",
      "\n",
      "Round 4 ...Gioca! \n",
      "\n",
      "Carta (1), Forbice (2) o Sasso (3)?2\n",
      "Il pc ha giocato....CARTA!\n",
      "Hai vinto il round  4 !\n",
      "\n",
      "Siete  2  a  3 \n",
      "\n",
      "Mannaggia...Hai perso... \n",
      "\n"
     ]
    }
   ],
   "source": [
    "\"\"\"\n",
    "1: carta\n",
    "2: forbice\n",
    "3: sasso\n",
    "1->2 vince 2\n",
    "2->3 vince 3\n",
    "1-3 vince 1\"\"\"\n",
    "\n",
    "def winner(giocatore, pc):\n",
    "    if giocatore == pc:\n",
    "        return 0\n",
    "    elif giocatore == 1:\n",
    "        if pc == 2:\n",
    "            return 2\n",
    "        elif pc == 3:\n",
    "            return 1\n",
    "        \n",
    "    elif giocatore == 2:\n",
    "        if pc == 1:\n",
    "            return 1\n",
    "        elif pc == 3:\n",
    "            return 2\n",
    "        \n",
    "    elif giocatore == 3:\n",
    "        if pc == 1:\n",
    "            return 2\n",
    "        elif pc==2:\n",
    "            return 1\n",
    "\n",
    "    \n",
    "def gioco_pc():\n",
    "    from random import random   \n",
    "    r = random()\n",
    "    if r < 0.33:\n",
    "        print(\"Il pc ha giocato....CARTA!\")\n",
    "        return 1\n",
    "    elif r < 0.66:\n",
    "        print(\"Il pc ha giocato....FORBICE!\")\n",
    "        return 2\n",
    "    else:\n",
    "        print(\"Il pc ha giocato....SASSO!\") \n",
    "        return 3\n",
    "\n",
    "vittorie_g = 0\n",
    "vittorie_p = 0\n",
    "\n",
    "for i in range(5):\n",
    "    print(\"Round\",i,\"...Gioca! \\n\")\n",
    "    \n",
    "    g = eval(input(\"Carta (1), Forbice (2) o Sasso (3)?\"))\n",
    "   \n",
    "    pc = gioco_pc()\n",
    "    \n",
    "    giocata = winner(g,pc)\n",
    "    \n",
    "    if giocata == 1:\n",
    "        vittorie_g+=1\n",
    "        print(\"Hai vinto il round \", i, \"!\\n\")\n",
    "        print(\"Siete \", vittorie_g, \" a \", vittorie_p,\"\\n\")\n",
    "    elif giocata == 2:\n",
    "        vittorie_p+=1\n",
    "        print(\"Hai perso il round \",i,\"....\\n\")\n",
    "        print(\"Siete \", vittorie_g, \" a \", vittorie_p,\"\\n\")\n",
    "    else:\n",
    "        print(\"Pareggio!\")\n",
    "        print(\"Siete \", vittorie_g, \" a \", vittorie_p,\"\\n\")\n",
    "\n",
    "if vittorie_g > vittorie_p:\n",
    "    print(\"Evviva! Hai vinto la partita! \\n\")\n",
    "elif vittorie_g< vittorie_p:\n",
    "    print(\"Mannaggia...Hai perso... \\n\")\n",
    "else:\n",
    "    print(\"Un buon pareggio. \\n\")"
   ]
  },
  {
   "cell_type": "code",
   "execution_count": 1,
   "metadata": {},
   "outputs": [
    {
     "name": "stdout",
     "output_type": "stream",
     "text": [
      "3\n",
      "2\n"
     ]
    }
   ],
   "source": [
    "x=2\n",
    "y=3\n",
    "x,y=y,x\n",
    "print(x)\n",
    "print(y)"
   ]
  },
  {
   "cell_type": "code",
   "execution_count": 2,
   "metadata": {},
   "outputs": [
    {
     "name": "stdout",
     "output_type": "stream",
     "text": [
      "Vittorie switch =  66481\n",
      "Vittorie non switch =  33341\n"
     ]
    }
   ],
   "source": []
  },
  {
   "cell_type": "code",
   "execution_count": null,
   "metadata": {},
   "outputs": [],
   "source": []
  }
 ],
 "metadata": {
  "kernelspec": {
   "display_name": "Python 3",
   "language": "python",
   "name": "python3"
  },
  "language_info": {
   "codemirror_mode": {
    "name": "ipython",
    "version": 3
   },
   "file_extension": ".py",
   "mimetype": "text/x-python",
   "name": "python",
   "nbconvert_exporter": "python",
   "pygments_lexer": "ipython3",
   "version": "3.7.3"
  }
 },
 "nbformat": 4,
 "nbformat_minor": 2
}
