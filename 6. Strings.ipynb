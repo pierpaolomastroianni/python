{
 "cells": [
  {
   "cell_type": "code",
   "execution_count": 2,
   "metadata": {},
   "outputs": [
    {
     "name": "stdout",
     "output_type": "stream",
     "text": [
      "Hello!\n",
      "Hello!\n",
      "Questa è una stringa lunga.\n",
      "        Uso tre apici per andare a capo.\n"
     ]
    }
   ],
   "source": [
    "#Stringhe\n",
    "s = 'Hello!'\n",
    "t = 'Hello!'\n",
    "m = \"\"\"Questa è una stringa lunga.\n",
    "        Uso tre apici per andare a capo.\"\"\"\n",
    "print(s)\n",
    "print(t)\n",
    "print(m)"
   ]
  },
  {
   "cell_type": "code",
   "execution_count": 3,
   "metadata": {},
   "outputs": [
    {
     "name": "stdout",
     "output_type": "stream",
     "text": [
      "Inserisci il tuo nome:Paolo\n",
      "Paolo\n"
     ]
    }
   ],
   "source": [
    "#Input con le stringhe: non serve l'eval\n",
    "nome = input(\"Inserisci il tuo nome:\")\n",
    "print(nome)"
   ]
  },
  {
   "cell_type": "code",
   "execution_count": 5,
   "metadata": {},
   "outputs": [
    {
     "name": "stdout",
     "output_type": "stream",
     "text": [
      "Inserisci il tuo nome:Pierpaolo\n",
      "9\n"
     ]
    }
   ],
   "source": [
    "#Lunghezza di una stringa\n",
    "nome = input(\"Inserisci il tuo nome:\")\n",
    "lun = len(nome)\n",
    "print(lun)"
   ]
  },
  {
   "cell_type": "code",
   "execution_count": 6,
   "metadata": {},
   "outputs": [
    {
     "name": "stdout",
     "output_type": "stream",
     "text": [
      "abbc\n",
      "abbc\n"
     ]
    }
   ],
   "source": [
    "#Concatenazione\n",
    "print('ab'+'bc')\n",
    "x = 'ab'\n",
    "y = 'bc'\n",
    "print(x+y)"
   ]
  },
  {
   "cell_type": "code",
   "execution_count": 9,
   "metadata": {},
   "outputs": [
    {
     "name": "stdout",
     "output_type": "stream",
     "text": [
      "*****\n",
      "*abab*\n",
      "*****\n"
     ]
    }
   ],
   "source": [
    "#ripetizione\n",
    "print('*'*5)\n",
    "print('*'+'ab'*2+'*')\n",
    "print('*'*5)"
   ]
  },
  {
   "cell_type": "code",
   "execution_count": 12,
   "metadata": {},
   "outputs": [
    {
     "name": "stdout",
     "output_type": "stream",
     "text": [
      "Nella tua stringa c'è la lettera 'a'\n",
      "Nella tua stringa non c'è la lettera 'a'\n"
     ]
    }
   ],
   "source": [
    "#L'operatore \"in\"\n",
    "string = \"Cazzarola\"\n",
    "if 'a' in string:\n",
    "    print(\"Nella tua stringa c'è la lettera 'a'\")\n",
    "string = \"Poppopoppo\"\n",
    "if 'a' not in string:\n",
    "    print(\"Nella tua stringa non c'è la lettera 'a'\")"
   ]
  },
  {
   "cell_type": "code",
   "execution_count": 15,
   "metadata": {},
   "outputs": [
    {
     "name": "stdout",
     "output_type": "stream",
     "text": [
      "Ok\n",
      "Ok\n"
     ]
    }
   ],
   "source": [
    "t = 'abb'\n",
    "if t == 'abb':\n",
    "    print(\"Ok\")\n",
    "if 'abb' in t:\n",
    "    print(\"Ok\")"
   ]
  },
  {
   "cell_type": "code",
   "execution_count": 1,
   "metadata": {},
   "outputs": [
    {
     "name": "stdout",
     "output_type": "stream",
     "text": [
      "M\n",
      "a\n",
      "a\n",
      "i\n"
     ]
    }
   ],
   "source": [
    "#indexing\n",
    "a = \"Mamma mia\"\n",
    "print(a[0])\n",
    "print(a[1])\n",
    "print(a[-1])\n",
    "print(a[-2])"
   ]
  },
  {
   "cell_type": "code",
   "execution_count": 9,
   "metadata": {},
   "outputs": [
    {
     "name": "stdout",
     "output_type": "stream",
     "text": [
      "mma\n",
      "mma mia\n",
      "Mamma\n",
      "Mamma mia\n",
      "ia\n",
      "am \n",
      "aim ammaM\n"
     ]
    }
   ],
   "source": [
    "#slicing\n",
    "a = \"Mamma mia\"\n",
    "#Dal carattere 2 al 4 (partendo da zero)\n",
    "print(a[2:5])\n",
    "#Dal carattere 2 a fine\n",
    "print(a[2:])\n",
    "#Dal carattere 0 4\n",
    "print(a[:5])\n",
    "#Tutta la stringa\n",
    "print(a[:])\n",
    "#Gli ultimi due caratteri\n",
    "print(a[-2:])\n",
    "#dal carattere 1 al 6, ogni due\n",
    "print(a[1:7:2])\n",
    "#inverte la stringa\n",
    "print(a[::-1])\n"
   ]
  },
  {
   "cell_type": "code",
   "execution_count": 12,
   "metadata": {},
   "outputs": [
    {
     "name": "stdout",
     "output_type": "stream",
     "text": [
      "Mammaèmammma\n"
     ]
    }
   ],
   "source": [
    "#Le stringhe sono immutabili:\n",
    "a = \"Mamma mammma\"\n",
    "#a[5] = 'è' darebbe errore\n",
    "#per sostituire:\n",
    "b = a[:5]+\"è\"+a[6:]\n",
    "print(b)"
   ]
  },
  {
   "cell_type": "code",
   "execution_count": 13,
   "metadata": {},
   "outputs": [
    {
     "name": "stdout",
     "output_type": "stream",
     "text": [
      "M\n",
      "a\n",
      "m\n",
      "m\n",
      "a\n",
      " \n",
      "m\n",
      "a\n",
      "m\n",
      "m\n",
      "m\n",
      "a\n"
     ]
    }
   ],
   "source": [
    "#looping con le stringhe\n",
    "for i in a:\n",
    "    print(i)"
   ]
  },
  {
   "cell_type": "code",
   "execution_count": 19,
   "metadata": {},
   "outputs": [
    {
     "name": "stdout",
     "output_type": "stream",
     "text": [
      "mamma mammma\n",
      "MAMMA MAMMMA\n",
      "Mbmmb mbmmmb\n",
      "6\n",
      "2\n",
      "False\n",
      "Mamma mammma\n"
     ]
    }
   ],
   "source": [
    "#metodi tipici per le stringhe:\n",
    "#lower() returns a string with every letter of the original in lowercase\n",
    "print(a.lower())\n",
    "#upper() returns a string with every letter of the original in uppercase\n",
    "print(a.upper())\n",
    "#replace(x,y) returns a string with every occurrence of x replaced by y\n",
    "print(a.replace('a','b'))\n",
    "#count(x) counts the number of occurrences of x in the string\n",
    "print(a.count('m'))\n",
    "#index(x) returns the location of the first occurrence of x\n",
    "print(a.index('m'))\n",
    "#isalpha() returns True if every character of the string is a letter\n",
    "print(a.isalpha())\n",
    "#I metodi non modificano la stringa\n",
    "print(a)"
   ]
  }
 ],
 "metadata": {
  "kernelspec": {
   "display_name": "Python 3",
   "language": "python",
   "name": "python3"
  },
  "language_info": {
   "codemirror_mode": {
    "name": "ipython",
    "version": 3
   },
   "file_extension": ".py",
   "mimetype": "text/x-python",
   "name": "python",
   "nbconvert_exporter": "python",
   "pygments_lexer": "ipython3",
   "version": "3.7.3"
  }
 },
 "nbformat": 4,
 "nbformat_minor": 2
}
