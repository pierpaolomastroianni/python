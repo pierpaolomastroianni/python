{
 "cells": [
  {
   "cell_type": "code",
   "execution_count": 3,
   "metadata": {},
   "outputs": [
    {
     "name": "stdout",
     "output_type": "stream",
     "text": [
      "Dammi una stringaehi babbeo! () ... ?\n",
      "a:  20\n",
      "b:  ehi babbeo! () ... ?ehi babbeo! () ... ?ehi babbeo! () ... ?ehi babbeo! () ... ?ehi babbeo! () ... ?ehi babbeo! () ... ?ehi babbeo! () ... ?ehi babbeo! () ... ?ehi babbeo! () ... ?ehi babbeo! () ... ?\n",
      "c:  e\n",
      "d:  ehi\n",
      "e:  . ?\n",
      "f:  ? ... )( !oebbab ihe\n",
      "g:  b\n",
      "h:  hi babbeo! () ... \n",
      "i_1:  EHI BABBEO! () ... ?\n",
      "i_2:  ehi babbeo! () ... ?\n",
      "j:  ehi bebbeo! () ... ?\n",
      "k:            ! () ... ?\n"
     ]
    }
   ],
   "source": [
    "\"\"\"1. Write a program that asks the user to enter a string. The program should then print the\n",
    "following:\n",
    "(a) The total number of characters in the string\n",
    "(b) The string repeated 10 times\n",
    "(c) The first character of the string (remember that string indices start at 0)\n",
    "(d) The first three characters of the string\n",
    "(e) The last three characters of the string\n",
    "(f) The string backwards\n",
    "(g) The seventh character of the string if the string is long enough and a message otherwise\n",
    "(h) The string with its first and last characters removed\n",
    "(i) The string in all caps\n",
    "(j) The string with every a replaced with an e\n",
    "(k) The string with every letter replaced by a space\n",
    "\"\"\"\n",
    "s = input(\"Dammi una stringa\")\n",
    "#a\n",
    "print(\"a: \",len(s))\n",
    "#b\n",
    "print(\"b: \", s*10)\n",
    "#c\n",
    "print(\"c: \",s[0])\n",
    "#d\n",
    "print(\"d: \",s[:3])\n",
    "#e\n",
    "print(\"e: \", s[-3:])\n",
    "#f\n",
    "print(\"f: \", s[::-1])\n",
    "#g\n",
    "if len(s) > 6:\n",
    "    print(\"g: \", s[6])\n",
    "else:\n",
    "    print(\"g: La stringa non è abbastanza lunga\")\n",
    "#h \n",
    "print(\"h: \",s[1:-1])\n",
    "#i\n",
    "print(\"i_1: \", s.upper())\n",
    "print(\"i_2: \", s.lower())\n",
    "#j\n",
    "print(\"j: \", s.replace('a','e'))\n",
    "#k\n",
    "for c in s:\n",
    "    if c.isalpha():\n",
    "        ss = s.replace(c,' ')\n",
    "        s = ss\n",
    "print(\"k: \", ss)"
   ]
  },
  {
   "cell_type": "code",
   "execution_count": 6,
   "metadata": {},
   "outputs": [
    {
     "name": "stdout",
     "output_type": "stream",
     "text": [
      "Inserisci un numero6\n",
      " 1\n",
      "  2\n",
      "   3\n",
      "    4\n",
      "     5\n",
      "      6\n"
     ]
    }
   ],
   "source": [
    "\"\"\"Ask the user for a number and then print the following, where the pattern ends at the number\n",
    "that the user enters.\n",
    "1\n",
    " 2\n",
    "  3\n",
    "   4\"\"\"\n",
    "n = eval(input(\"Inserisci un numero\"))\n",
    "for i in range(n):\n",
    "    print(' '*i,(i+1))"
   ]
  },
  {
   "cell_type": "code",
   "execution_count": 2,
   "metadata": {},
   "outputs": [
    {
     "name": "stdout",
     "output_type": "stream",
     "text": [
      "Inserisci una stringa: \n",
      "PAparazzi\n",
      "9\n",
      "0 6\n",
      "P z\n",
      "zAparazzi\n",
      "zAparaPzi\n"
     ]
    }
   ],
   "source": [
    "\"\"\"An anagram of a word is a word that is created by rearranging the letters of the original.\n",
    "For instance, two anagrams of idle are deli and lied. Finding anagrams that are real words is\n",
    "beyond our reach until Chapter 12. Instead, write a program that asks the user for a string\n",
    "and returns a random anagram of the string—in other words, a random rearrangement of the\n",
    "letters of that string.\"\"\"\n",
    "from random import randint\n",
    "s = input(\"Inserisci una stringa: \\n\")\n",
    "n = len(s)\n",
    "print(n)\n",
    "n1 = randint(0,n-1)\n",
    "n2 = n1\n",
    "while s[n1] == s[n2]:\n",
    "    n2 = randint(0,n-1)\n",
    "print(n1,n2)\n",
    "a = s[n1]\n",
    "b = s[n2]\n",
    "print(a,b)\n",
    "ss = s[:n1]+b+s[n1+1:]\n",
    "print(ss)\n",
    "ss = ss[:n2]+a+ss[n2+1:]\n",
    "print(ss)"
   ]
  },
  {
   "cell_type": "code",
   "execution_count": 1,
   "metadata": {},
   "outputs": [
    {
     "name": "stdout",
     "output_type": "stream",
     "text": [
      "Enter your message: Pipino ama stuzzicarsi il pube\n",
      "kjkjvt xyx omprrjnxuoj jd kpzw"
     ]
    }
   ],
   "source": [
    "alphabet = 'abcdefghijklmnopqrstuvwxyz'\n",
    "key = 'xznlwebgjhqdyvtkfuompciasr'\n",
    "\n",
    "secret_message = input('Enter your message: ')\n",
    "secret_message = secret_message.lower()\n",
    "\n",
    "for c in secret_message:\n",
    "    if c.isalpha():\n",
    "        print(key[alphabet.index(c)],end='')\n",
    "    else:\n",
    "        print(c, end='')"
   ]
  }
 ],
 "metadata": {
  "kernelspec": {
   "display_name": "Python 3",
   "language": "python",
   "name": "python3"
  },
  "language_info": {
   "codemirror_mode": {
    "name": "ipython",
    "version": 3
   },
   "file_extension": ".py",
   "mimetype": "text/x-python",
   "name": "python",
   "nbconvert_exporter": "python",
   "pygments_lexer": "ipython3",
   "version": "3.7.3"
  }
 },
 "nbformat": 4,
 "nbformat_minor": 2
}
