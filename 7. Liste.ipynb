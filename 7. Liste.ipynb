{
 "cells": [
  {
   "cell_type": "code",
   "execution_count": 1,
   "metadata": {},
   "outputs": [],
   "source": [
    "#Definizione di una lista\n",
    "D = [1,2,3]"
   ]
  },
  {
   "cell_type": "code",
   "execution_count": 2,
   "metadata": {},
   "outputs": [
    {
     "name": "stdout",
     "output_type": "stream",
     "text": [
      "Inserisci una lista: \n",
      "[1,2,3]\n",
      "[1, 2, 3]\n"
     ]
    }
   ],
   "source": [
    "#La lista si puà prendere anche da input\n",
    "L = eval(input(\"Inserisci una lista: \\n\"))\n",
    "print(L)"
   ]
  },
  {
   "cell_type": "code",
   "execution_count": 17,
   "metadata": {},
   "outputs": [
    {
     "name": "stdout",
     "output_type": "stream",
     "text": [
      "[1, 'abc', [7, 14, 21], 'mamma']\n"
     ]
    }
   ],
   "source": [
    "#Le liste possono contenere anche altre liste o oggetti di tipo diverso\n",
    "L = [1,'abc',[7,14,21],'mamma']\n",
    "print(L)"
   ]
  },
  {
   "cell_type": "code",
   "execution_count": 18,
   "metadata": {},
   "outputs": [
    {
     "name": "stdout",
     "output_type": "stream",
     "text": [
      "4\n",
      "Nella lista non c'è 'a'\n",
      "[1, 'abc', [7, 14, 21]]\n",
      "[1, 'abc', [7, 14, 21]]\n",
      "[[7, 14, 21], 'mamma']\n",
      "['mamma', [7, 14, 21], 'abc', 1]\n",
      "['mamma', 'abc']\n"
     ]
    }
   ],
   "source": [
    "#Le liste hanno delle funzioni built-in simili alle stringhe\n",
    "#len: numero di elementi della stringa\n",
    "print(len(L))\n",
    "#il comando in\n",
    "if 'a' in L:\n",
    "    print(\"Nella lista c'è 'a' \")\n",
    "else:\n",
    "    print(\"Nella lista non c'è 'a'\")\n",
    "\n",
    "#indexing e slicing\n",
    "print(L[:3])\n",
    "print(L[:-1])\n",
    "print(L[-2:])\n",
    "print(L[::-1])\n",
    "print(L[::-2])"
   ]
  },
  {
   "cell_type": "code",
   "execution_count": 19,
   "metadata": {},
   "outputs": [
    {
     "name": "stdout",
     "output_type": "stream",
     "text": [
      "[1, 'abc', [7, 14, 21], 'mamma', [1]]\n",
      "[7, 14, 21]\n",
      "0\n",
      "3\n",
      "[21, 14, 7]\n",
      "abc\n",
      "[1, [21, 14, 7], 'mamma', 'doddoodoo']\n"
     ]
    }
   ],
   "source": [
    "#append(x) adds x to the end of the list\n",
    "L.append([1])\n",
    "print(L)\n",
    "\n",
    "#sort() sorts the list per liste numeriche\n",
    "L[2].sort()\n",
    "print(L[2])\n",
    "\n",
    "#count(x) returns the number of times x occurs in the list\n",
    "print(L.count('a'))\n",
    "\n",
    "#index(x) returns the location of the first occurrence of x. Se x non è nella lista va in errore.\n",
    "print(L.index('mamma'))\n",
    "\n",
    "#reverse() reverses the list\n",
    "L[2].reverse()\n",
    "print(L[2])\n",
    "\n",
    "#remove(x) removes first occurrence of x from the list\n",
    "L.remove([1])\n",
    "\n",
    "#pop(p) removes the item at index p and returns its value\n",
    "print(L.pop(1))\n",
    "\n",
    "#insert(p,x) inserts x at index p of the list\n",
    "L.insert(3,'doddoodoo')\n",
    "print(L)"
   ]
  },
  {
   "cell_type": "code",
   "execution_count": 1,
   "metadata": {},
   "outputs": [
    {
     "name": "stdout",
     "output_type": "stream",
     "text": [
      "[5, 7, 2, 8, 12]\n",
      "[2, 5, 7, 8, 12]\n"
     ]
    }
   ],
   "source": [
    "#A differenza dei metodi per le stringhe, i metodi per le liste aggiornano la lista stessa\n",
    "L = [5,7,2,8,12]\n",
    "print(L)\n",
    "L.sort()\n",
    "print(L)"
   ]
  },
  {
   "cell_type": "code",
   "execution_count": 4,
   "metadata": {},
   "outputs": [
    {
     "name": "stdout",
     "output_type": "stream",
     "text": [
      "[2, 5, 7, 8, 12]\n",
      "[2, 5, 7, 8, 12]\n",
      "[2, 5, 7, 8, 12, 48]\n",
      "[2, 5, 7, 8, 12, 48]\n"
     ]
    }
   ],
   "source": [
    "#Per copiare una lista:\n",
    "M = L[:]\n",
    "print(M)\n",
    "\n",
    "#usando questo comando invece le due liste restano collegate\n",
    "P=L\n",
    "print(P)\n",
    "P.append(48)\n",
    "print(P)\n",
    "print(L)"
   ]
  },
  {
   "cell_type": "code",
   "execution_count": 15,
   "metadata": {},
   "outputs": [
    {
     "name": "stdout",
     "output_type": "stream",
     "text": [
      "[14, 48, 4, 25, 45, 41, 19, 24, 10, 23, 79, 69, 77, 5, 68, 16, 55, 35, 40, 56, 69, 84, 21, 76, 24, 22, 100, 61, 59, 44, 66, 17, 87, 76, 72, 50, 83, 60, 70, 51, 48, 57, 20, 78, 28, 9, 58, 34, 27, 57]\n"
     ]
    }
   ],
   "source": [
    "#Write a program that generates a list L of 50 random numbers between 1 and 100.\n",
    "from random import randint\n",
    "L = []\n",
    "for i in range(50):\n",
    "    L.append(randint(1,100))\n",
    "    #oppure: lista = lista+[randint(1,100)]\n",
    "print(L)"
   ]
  },
  {
   "cell_type": "code",
   "execution_count": 12,
   "metadata": {},
   "outputs": [
    {
     "name": "stdout",
     "output_type": "stream",
     "text": [
      "[2809, 6561, 1849, 9604, 144, 625, 1369, 484, 9, 5184, 8281, 6400, 7396, 169, 4489, 10000, 2809, 3844, 3364, 10000, 4900, 361, 529, 3969, 100, 9025, 225, 3249, 1681, 4624, 441, 1024, 7056, 1936, 6400, 9801, 6084, 3969, 6724, 49, 2809, 4624, 81, 625, 9801, 3025, 3721, 2025, 1444, 3136]\n"
     ]
    }
   ],
   "source": [
    "#Replace each element in a list L with its square.\n",
    "for i in range(len(L)):\n",
    "    L[i] = L[i]**2\n",
    "print(L)"
   ]
  },
  {
   "cell_type": "code",
   "execution_count": 14,
   "metadata": {},
   "outputs": [
    {
     "name": "stdout",
     "output_type": "stream",
     "text": [
      "48\n"
     ]
    }
   ],
   "source": [
    "#Count how many items in a list L are greater than 50.\n",
    "n = 0\n",
    "for item in L:\n",
    "    if item>50:\n",
    "        n+=1\n",
    "print(n)"
   ]
  },
  {
   "cell_type": "code",
   "execution_count": 21,
   "metadata": {},
   "outputs": [
    {
     "name": "stdout",
     "output_type": "stream",
     "text": [
      "[0, 0, 0, 1, 1, 0, 0, 0, 1, 1, 0, 0, 0, 1, 0, 1, 1, 0, 1, 1, 1, 1, 1, 2, 1, 0, 1, 1, 0, 0, 0, 0, 0, 1, 1, 0, 0, 0, 0, 1, 1, 0, 0, 1, 1, 0, 0, 2, 0, 1, 1, 0, 0, 0, 1, 1, 2, 1, 1, 1, 1, 0, 0, 0, 0, 1, 0, 1, 2, 1, 0, 1, 0, 0, 0, 2, 1, 1, 1, 0, 0, 0, 1, 1, 0, 0, 1, 0, 0, 0, 0, 0, 0, 0, 0, 0, 0, 0, 0, 1]\n"
     ]
    }
   ],
   "source": [
    "\"\"\"Given a list L that contains numbers between 1 and 100, create a new list whose first\n",
    "element is how many ones are in L, whose second element is how many twos are in L, etc.\"\"\"\n",
    "freq = []\n",
    "\n",
    "for i in range(1,101):\n",
    "    freq.append(L.count(i))\n",
    "\n",
    "print(freq)\n"
   ]
  },
  {
   "cell_type": "code",
   "execution_count": 27,
   "metadata": {},
   "outputs": [
    {
     "name": "stdout",
     "output_type": "stream",
     "text": [
      "I due numeri più grandi:  [0.9791818327656291, 0.9983757340790052]\n",
      "I due numeri più piccoli:  [0.0008480838605944285, 0.03307687240984958]\n"
     ]
    }
   ],
   "source": [
    "\"\"\"Write a program that prints out the two largest and two smallest elements of a list\n",
    "called scores.\"\"\"\n",
    "import random\n",
    "\n",
    "scores = []\n",
    "\n",
    "for i in range(100):\n",
    "    scores.append(random.random())\n",
    "\n",
    "scores.sort() \n",
    "    \n",
    "print(\"I due numeri più grandi: \", scores[-2:])    \n",
    "print(\"I due numeri più piccoli: \", scores[:2])   "
   ]
  }
 ],
 "metadata": {
  "kernelspec": {
   "display_name": "Python 3",
   "language": "python",
   "name": "python3"
  },
  "language_info": {
   "codemirror_mode": {
    "name": "ipython",
    "version": 3
   },
   "file_extension": ".py",
   "mimetype": "text/x-python",
   "name": "python",
   "nbconvert_exporter": "python",
   "pygments_lexer": "ipython3",
   "version": "3.7.3"
  }
 },
 "nbformat": 4,
 "nbformat_minor": 2
}
