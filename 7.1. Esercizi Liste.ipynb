{
 "cells": [
  {
   "cell_type": "code",
   "execution_count": 14,
   "metadata": {},
   "outputs": [
    {
     "name": "stdout",
     "output_type": "stream",
     "text": [
      "[8, 21, 23]\n",
      "Numero di elementi:  3\n",
      "Ultimo elemento della lista:  23\n",
      "Lista in ordine inverso:  [23, 21, 8]\n",
      "No\n",
      "Numero di 5 nella lista:  0\n",
      "[21]\n",
      "Elementi minori di 5:  0\n"
     ]
    }
   ],
   "source": [
    "#1. Write a program that asks the user to enter a list of integers. Do the following:\n",
    "L = eval(input(\"Inserisci una lista di interi\"))\n",
    "print(L)\n",
    "#(a) Print the total number of items in the list.\n",
    "print(\"Numero di elementi: \",len(L))\n",
    "#(b) Print the last item in the list.\n",
    "print(\"Ultimo elemento della lista: \", L[-1])\n",
    "#(c) Print the list in reverse order.\n",
    "print(\"Lista in ordine inverso: \", L[::-1])\n",
    "#(d) Print Yes if the list contains a 5 and No otherwise.\n",
    "if 5 in L:\n",
    "    print(\"Yes\")\n",
    "else:\n",
    "    print(\"No\")\n",
    "#(e) Print the number of fives in the list.\n",
    "print(\"Numero di 5 nella lista: \", L.count(5))\n",
    "#(f) Remove the first and last items from the list, sort the remaining items, and print the result.\n",
    "L.remove(L[0])\n",
    "L.remove(L[-1])\n",
    "L.sort()\n",
    "print(L)\n",
    "\n",
    "#(g) Print how many integers in the list are less than 5.\n",
    "n = 0\n",
    "for item in L:\n",
    "    if item < 5:\n",
    "        n+=1\n",
    "print(\"Elementi minori di 5: \", n)"
   ]
  },
  {
   "cell_type": "code",
   "execution_count": 30,
   "metadata": {},
   "outputs": [
    {
     "name": "stdout",
     "output_type": "stream",
     "text": [
      "[97, 5, 50, 60, 2, 39, 18, 60, 69, 76, 39, 53, 79, 25, 36, 77, 91, 59, 65, 12]\n",
      "Media:  50.6\n",
      "Minimo:  2\n",
      "Massimo:  97\n",
      "Secondo Minimo:  5\n",
      "Secondo Massimo:  91\n",
      "Numero di numeri pari:  8\n"
     ]
    }
   ],
   "source": [
    "\"\"\"2. Write a program that generates a list of 20 random numbers between 1 and 100\"\"\"\n",
    "from random import randint\n",
    "L = []\n",
    "for i in range(20):\n",
    "    L.append(randint(1,101))\n",
    "#(a) Print the list.\n",
    "print(L)\n",
    "#(b) Print the average of the elements in the list.\n",
    "avg = 0\n",
    "for item in L:\n",
    "    avg += item\n",
    "avg/=len(L)\n",
    "print(\"Media: \", avg)\n",
    "#(c) Print the largest and smallest values in the list.\n",
    "L.sort()\n",
    "print(\"Minimo: \", L[0])\n",
    "print(\"Massimo: \", L[-1])\n",
    "#(d) Print the second largest and second smallest entries in the list\n",
    "print(\"Secondo Minimo: \", L[1])\n",
    "print(\"Secondo Massimo: \", L[-2])\n",
    "#(e) Print how many even numbers are in the list.\n",
    "num_even = 0\n",
    "for item in L:\n",
    "    if item%2 == 0:\n",
    "        num_even += 1\n",
    "print(\"Numero di numeri pari: \", num_even)"
   ]
  },
  {
   "cell_type": "code",
   "execution_count": 35,
   "metadata": {},
   "outputs": [
    {
     "name": "stdout",
     "output_type": "stream",
     "text": [
      "[0, 0.027629999999999044, 0.055250000000006246, 0.08358000000000029, 0.11312999999998884, 0.13973999999999898, 0.1646700000000239, 0.13943999999999868, 0.11015999999998999, 0.08293000000000054, 0.0554200000000063, 0.028049999999999027]\n"
     ]
    }
   ],
   "source": [
    "\"\"\"When playing games where you have to roll two dice, it is nice to know the odds of each\n",
    "roll. For instance, the odds of rolling a 12 are about 3%, and the odds of rolling a 7 are about\n",
    "17%. You can compute these mathematically, but if you don’t know the math, you can write\n",
    "a program to do it. To do this, your program should simulate rolling two dice about 10,000\n",
    "times and compute and print out the percentage of rolls that come out to be 2, 3, 4, . . . , 12.\"\"\"\n",
    "#simulazione gioco\n",
    "from random import randint\n",
    "L = []\n",
    "\n",
    "for i in range(12):\n",
    "    L.append(0)\n",
    "\n",
    "num_sim = 100000\n",
    "freq = 1/num_sim\n",
    "\n",
    "for i in range(num_sim):\n",
    "    s = randint(1,6)+randint(1,6)\n",
    "   # print(s)\n",
    "    L[s-1]+=freq\n",
    "\n",
    "print(L)"
   ]
  },
  {
   "cell_type": "code",
   "execution_count": 62,
   "metadata": {},
   "outputs": [
    {
     "name": "stdout",
     "output_type": "stream",
     "text": [
      "Inserisci un messaggio: Dannazione..\n",
      "Messaggio criptato: \n",
      "glxfdmrsqa..\n",
      "\n",
      "\n",
      "Messagio decriptato\n",
      "dannazione.."
     ]
    }
   ],
   "source": [
    "\"\"\"There is a provably unbreakable cipher called a one-time pad. The way it works is you shift\n",
    "each character of the message by a random amount between 1 and 26 characters, wrapping\n",
    "around the alphabet if necessary. For instance, if the current character is y and the shift is 5,\n",
    "then the new character is d. Each character gets its own shift, so there needs to be as many\n",
    "random shifts as there are characters in the message. As an example, suppose the user enters\n",
    "secret. The program should generate a random shift between 1 and 26 for each character.\n",
    "Suppose the randomly generated shifts are 1, 3, 2, 10, 8, and 2. The encrypted message would\n",
    "be thebmv.\n",
    "(a) Write a program that asks the user for a message and encrypts the message using the\n",
    "one-time pad. First convert the string to lowercase. Any spaces and punctuation in the\n",
    "string should be left unchanged. For example, Secret!!! becomes thebmv!!! using\n",
    "the shifts above.\n",
    "(b) Write a program to decrypt a string encrypted as above.\n",
    "The reason it is called a one-time-pad is that the list of random shifts should only be used once.\n",
    "It becomes easily breakable if the same random shifts are used for more than one message.\n",
    "Moreover, it is only provably unbreakable if the random numbers are truly random, and the\n",
    "numbers generated by randint are not truly random. For this problem, just use randint,\n",
    "but for cryptographically safe random numbers, see Section 22.8.\"\"\"\n",
    "\n",
    "alphabet = \"abcdefghijklmnopqrstuvwxyz\"\n",
    "\n",
    "L_alphabet = []\n",
    "\n",
    "for c in alphabet:\n",
    "    L_alphabet.append(c)\n",
    "\n",
    "from random import randint    \n",
    " \n",
    "message = []\n",
    "message_s = input(\"Inserisci un messaggio: \")\n",
    "message_s = message_s.lower()\n",
    "\n",
    "for c in message_s:\n",
    "    message.append(c)\n",
    "#print(message)   \n",
    "\n",
    "#encrypt\n",
    "encryption = []\n",
    "message_encr = []\n",
    "message_decr = []\n",
    "\n",
    "for i in range(len(message)):\n",
    "    if message[i].isalpha():\n",
    "        index_or = L_alphabet.index(message[i])\n",
    "        shift = randint(1,26)\n",
    "        index_new = (index_or+shift)%26\n",
    "        shift = index_new-index_or\n",
    "        encryption.append(shift)\n",
    "        message_encr.append(L_alphabet[index_new])\n",
    "    else:\n",
    "        message_encr.append(message[i])\n",
    "        encryption.append(0)        \n",
    "\n",
    "print(\"Messaggio criptato: \")\n",
    "for c in message_encr:\n",
    "    print(c,end='')\n",
    "\n",
    "print(\"\\n\")\n",
    "\n",
    "#decrypt\n",
    "for i in range(len(message_encr)):\n",
    "    if message_encr[i].isalpha():        \n",
    "        message_decr.append(L_alphabet[L_alphabet.index(message_encr[i])-encryption[i]])\n",
    "    else:\n",
    "        message_decr.append(message_encr[i])\n",
    "        \n",
    "print(\"\\nMessagio decriptato\")\n",
    "for c in message_decr:\n",
    "    print(c,end='')\n",
    "    "
   ]
  }
 ],
 "metadata": {
  "kernelspec": {
   "display_name": "Python 3",
   "language": "python",
   "name": "python3"
  }
 },
 "nbformat": 4,
 "nbformat_minor": 2
}
