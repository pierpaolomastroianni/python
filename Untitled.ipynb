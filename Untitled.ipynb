{
 "cells": [
  {
   "cell_type": "code",
   "execution_count": 1,
   "metadata": {},
   "outputs": [],
   "source": [
    "#Definizione di una lista\n",
    "D = [1,2,3]"
   ]
  },
  {
   "cell_type": "code",
   "execution_count": 2,
   "metadata": {},
   "outputs": [
    {
     "name": "stdout",
     "output_type": "stream",
     "text": [
      "Inserisci una lista: \n",
      "[1,2,3]\n",
      "[1, 2, 3]\n"
     ]
    }
   ],
   "source": [
    "#La lista si puà prendere anche da input\n",
    "L = eval(input(\"Inserisci una lista: \\n\"))\n",
    "print(L)"
   ]
  },
  {
   "cell_type": "code",
   "execution_count": 3,
   "metadata": {},
   "outputs": [
    {
     "name": "stdout",
     "output_type": "stream",
     "text": [
      "[1, 'abc', [7, 14, 21], 'mamma']\n"
     ]
    }
   ],
   "source": [
    "#Le liste possono contenere anche altre liste o oggetti di tipo diverso\n",
    "L = [1,'abc',[7,14,21],'mamma']\n",
    "print(L)"
   ]
  },
  {
   "cell_type": "code",
   "execution_count": 9,
   "metadata": {},
   "outputs": [
    {
     "name": "stdout",
     "output_type": "stream",
     "text": [
      "4\n",
      "Nella lista non c'è 'a'\n",
      "[1, 'abc', [7, 14, 21]]\n",
      "[1, 'abc', [7, 14, 21]]\n",
      "[[7, 14, 21], 'mamma']\n",
      "['mamma', [7, 14, 21], 'abc', 1]\n",
      "['mamma', 'abc']\n"
     ]
    }
   ],
   "source": [
    "#Le liste hanno delle funzioni built-in simili alle stringhe\n",
    "#len: numero di elementi della stringa\n",
    "print(len(L))\n",
    "#il comando in\n",
    "if 'a' in L:\n",
    "    print(\"Nella lista c'è 'a' \")\n",
    "else:\n",
    "    print(\"Nella lista non c'è 'a'\")\n",
    "\n",
    "#indexing e slicing\n",
    "print(L[:3])\n",
    "print(L[:-1])\n",
    "print(L[-2:])\n",
    "print(L[::-1])\n",
    "print(L[::-2])"
   ]
  },
  {
   "cell_type": "code",
   "execution_count": 15,
   "metadata": {},
   "outputs": [
    {
     "name": "stdout",
     "output_type": "stream",
     "text": [
      "[1, 'abc', [7, 14, 21], 'mamma', [1], [1], [1], [1], [1], [1]]\n",
      "[7, 14, 21]\n",
      "1\n",
      "1\n",
      "None\n"
     ]
    },
    {
     "data": {
      "text/plain": [
       "'\\n\\nremove(x) removes first occurrence of x from the list\\npop(p) removes the item at index p and returns its value\\ninsert(p,x) inserts x at index p of the list'"
      ]
     },
     "execution_count": 15,
     "metadata": {},
     "output_type": "execute_result"
    }
   ],
   "source": [
    "#append(x) adds x to the end of the list\n",
    "L.append([1])\n",
    "print(L)\n",
    "\n",
    "#sort() sorts the list per liste numeriche\n",
    "L[2].sort()\n",
    "print(L[2])\n",
    "\n",
    "#count(x) returns the number of times x occurs in the list\n",
    "print(L.count(1))\n",
    "\n",
    "#index(x) returns the location of the first occurrence of x\n",
    "print(L.index('abc'))\n",
    "\n",
    "#reverse() reverses the list\n",
    "print(L.reverse())\n",
    "\n",
    "\"\"\"\n",
    "\n",
    "remove(x) removes first occurrence of x from the list\n",
    "pop(p) removes the item at index p and returns its value\n",
    "insert(p,x) inserts x at index p of the list\"\"\""
   ]
  }
 ],
 "metadata": {
  "kernelspec": {
   "display_name": "Python 3",
   "language": "python",
   "name": "python3"
  },
  "language_info": {
   "codemirror_mode": {
    "name": "ipython",
    "version": 3
   },
   "file_extension": ".py",
   "mimetype": "text/x-python",
   "name": "python",
   "nbconvert_exporter": "python",
   "pygments_lexer": "ipython3",
   "version": "3.7.3"
  }
 },
 "nbformat": 4,
 "nbformat_minor": 2
}
